{
  "nbformat": 4,
  "nbformat_minor": 0,
  "metadata": {
    "colab": {
      "name": "Big Data.ipynb",
      "provenance": [],
      "collapsed_sections": []
    },
    "kernelspec": {
      "name": "python3",
      "display_name": "Python 3"
    },
    "language_info": {
      "name": "python"
    }
  },
  "cells": [
    {
      "cell_type": "markdown",
      "source": [
        "![image.png](data:image/png;base64,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)"
      ],
      "metadata": {
        "id": "nM14TNXuR-mJ"
      }
    },
    {
      "cell_type": "markdown",
      "source": [
        "# **Ernst & Young**\n",
        "This company is a multinational professional services partnership headquartered in London, England. EY is one of the largest professional services networks in the world. Along with Deloitte, KPMG and PricewaterhouseCoopers, it is considered one of the Big Four accounting firms. It primarily provides assurance (which includes financial audit), tax, consulting and advisory services to its clients. Like many of the larger accounting firms in recent years, EY has expanded into markets adjacent to accounting, including strategy, operations, HR, technology, and financial services consulting."
      ],
      "metadata": {
        "id": "rhEPsrkwQJe4"
      }
    },
    {
      "cell_type": "markdown",
      "source": [
        "The company has a new client, a company of HR, and wants to have a personal email, only for the staff, in order to that they need a model to define if the email that is recieved is a smap or not."
      ],
      "metadata": {
        "id": "WNGDk1p_SeEM"
      }
    },
    {
      "cell_type": "markdown",
      "source": [
        "Thats why they've sent a dataset of the full content of the email including subject, test, etc."
      ],
      "metadata": {
        "id": "QtzqF6GYStS9"
      }
    },
    {
      "cell_type": "markdown",
      "source": [
        "## Getting Started\n",
        "This are the libraries that have to be install in order the model to work"
      ],
      "metadata": {
        "id": "WEZelQsQcdJp"
      }
    },
    {
      "cell_type": "code",
      "execution_count": 250,
      "metadata": {
        "id": "naEoBOiAUb_x"
      },
      "outputs": [],
      "source": [
        "import numpy as np\n",
        "import pandas as pd\n",
        "import matplotlib.pyplot as plt\n",
        "from sklearn.feature_extraction.text import TfidfVectorizer,CountVectorizer\n",
        "from sklearn.model_selection import train_test_split\n",
        "from sklearn.ensemble import RandomForestClassifier\n",
        "from sklearn.svm import SVC\n",
        "from sklearn.metrics import accuracy_score, classification_report, confusion_matrix\n",
        "from sklearn.model_selection import GridSearchCV\n",
        "from sklearn import svm\n",
        "from sklearn.tree import DecisionTreeClassifier\n",
        "from sklearn.metrics import plot_confusion_matrix\n",
        "from sklearn.neural_network import MLPClassifier\n",
        "import sklearn.model_selection"
      ]
    },
    {
      "cell_type": "markdown",
      "source": [
        "**Data**: The dataset that the company send is the archive 'Emails content.csv'. It has 3 columns which are: CATEGORY, that is 0 if its a normal mail and 1 if it's a spam email; MESSAGE, that contains the content of the email; and FILE_NAME, that has the id of the messages."
      ],
      "metadata": {
        "id": "h3EpqW5cY6om"
      }
    },
    {
      "cell_type": "code",
      "source": [
        "sms = pd.read_csv('spam_ham_dataset.csv')"
      ],
      "metadata": {
        "id": "fWwKCaY6Y07O"
      },
      "execution_count": 145,
      "outputs": []
    },
    {
      "cell_type": "code",
      "source": [
        "sms.head()"
      ],
      "metadata": {
        "colab": {
          "base_uri": "https://localhost:8080/",
          "height": 206
        },
        "id": "1gKeJsyqY0oK",
        "outputId": "30d8971c-ac08-41eb-cd0f-5af9fed5ced0"
      },
      "execution_count": 146,
      "outputs": [
        {
          "output_type": "execute_result",
          "data": {
            "text/plain": [
              "   Unnamed: 0 label                                               text  \\\n",
              "0         605   ham  Subject: enron methanol ; meter # : 988291\\r\\n...   \n",
              "1        2349   ham  Subject: hpl nom for january 9 , 2001\\r\\n( see...   \n",
              "2        3624   ham  Subject: neon retreat\\r\\nho ho ho , we ' re ar...   \n",
              "3        4685  spam  Subject: photoshop , windows , office . cheap ...   \n",
              "4        2030   ham  Subject: re : indian springs\\r\\nthis deal is t...   \n",
              "\n",
              "   label_num  \n",
              "0          0  \n",
              "1          0  \n",
              "2          0  \n",
              "3          1  \n",
              "4          0  "
            ],
            "text/html": [
              "\n",
              "  <div id=\"df-7cf03057-7569-40a2-aab8-e1ae78684918\">\n",
              "    <div class=\"colab-df-container\">\n",
              "      <div>\n",
              "<style scoped>\n",
              "    .dataframe tbody tr th:only-of-type {\n",
              "        vertical-align: middle;\n",
              "    }\n",
              "\n",
              "    .dataframe tbody tr th {\n",
              "        vertical-align: top;\n",
              "    }\n",
              "\n",
              "    .dataframe thead th {\n",
              "        text-align: right;\n",
              "    }\n",
              "</style>\n",
              "<table border=\"1\" class=\"dataframe\">\n",
              "  <thead>\n",
              "    <tr style=\"text-align: right;\">\n",
              "      <th></th>\n",
              "      <th>Unnamed: 0</th>\n",
              "      <th>label</th>\n",
              "      <th>text</th>\n",
              "      <th>label_num</th>\n",
              "    </tr>\n",
              "  </thead>\n",
              "  <tbody>\n",
              "    <tr>\n",
              "      <th>0</th>\n",
              "      <td>605</td>\n",
              "      <td>ham</td>\n",
              "      <td>Subject: enron methanol ; meter # : 988291\\r\\n...</td>\n",
              "      <td>0</td>\n",
              "    </tr>\n",
              "    <tr>\n",
              "      <th>1</th>\n",
              "      <td>2349</td>\n",
              "      <td>ham</td>\n",
              "      <td>Subject: hpl nom for january 9 , 2001\\r\\n( see...</td>\n",
              "      <td>0</td>\n",
              "    </tr>\n",
              "    <tr>\n",
              "      <th>2</th>\n",
              "      <td>3624</td>\n",
              "      <td>ham</td>\n",
              "      <td>Subject: neon retreat\\r\\nho ho ho , we ' re ar...</td>\n",
              "      <td>0</td>\n",
              "    </tr>\n",
              "    <tr>\n",
              "      <th>3</th>\n",
              "      <td>4685</td>\n",
              "      <td>spam</td>\n",
              "      <td>Subject: photoshop , windows , office . cheap ...</td>\n",
              "      <td>1</td>\n",
              "    </tr>\n",
              "    <tr>\n",
              "      <th>4</th>\n",
              "      <td>2030</td>\n",
              "      <td>ham</td>\n",
              "      <td>Subject: re : indian springs\\r\\nthis deal is t...</td>\n",
              "      <td>0</td>\n",
              "    </tr>\n",
              "  </tbody>\n",
              "</table>\n",
              "</div>\n",
              "      <button class=\"colab-df-convert\" onclick=\"convertToInteractive('df-7cf03057-7569-40a2-aab8-e1ae78684918')\"\n",
              "              title=\"Convert this dataframe to an interactive table.\"\n",
              "              style=\"display:none;\">\n",
              "        \n",
              "  <svg xmlns=\"http://www.w3.org/2000/svg\" height=\"24px\"viewBox=\"0 0 24 24\"\n",
              "       width=\"24px\">\n",
              "    <path d=\"M0 0h24v24H0V0z\" fill=\"none\"/>\n",
              "    <path d=\"M18.56 5.44l.94 2.06.94-2.06 2.06-.94-2.06-.94-.94-2.06-.94 2.06-2.06.94zm-11 1L8.5 8.5l.94-2.06 2.06-.94-2.06-.94L8.5 2.5l-.94 2.06-2.06.94zm10 10l.94 2.06.94-2.06 2.06-.94-2.06-.94-.94-2.06-.94 2.06-2.06.94z\"/><path d=\"M17.41 7.96l-1.37-1.37c-.4-.4-.92-.59-1.43-.59-.52 0-1.04.2-1.43.59L10.3 9.45l-7.72 7.72c-.78.78-.78 2.05 0 2.83L4 21.41c.39.39.9.59 1.41.59.51 0 1.02-.2 1.41-.59l7.78-7.78 2.81-2.81c.8-.78.8-2.07 0-2.86zM5.41 20L4 18.59l7.72-7.72 1.47 1.35L5.41 20z\"/>\n",
              "  </svg>\n",
              "      </button>\n",
              "      \n",
              "  <style>\n",
              "    .colab-df-container {\n",
              "      display:flex;\n",
              "      flex-wrap:wrap;\n",
              "      gap: 12px;\n",
              "    }\n",
              "\n",
              "    .colab-df-convert {\n",
              "      background-color: #E8F0FE;\n",
              "      border: none;\n",
              "      border-radius: 50%;\n",
              "      cursor: pointer;\n",
              "      display: none;\n",
              "      fill: #1967D2;\n",
              "      height: 32px;\n",
              "      padding: 0 0 0 0;\n",
              "      width: 32px;\n",
              "    }\n",
              "\n",
              "    .colab-df-convert:hover {\n",
              "      background-color: #E2EBFA;\n",
              "      box-shadow: 0px 1px 2px rgba(60, 64, 67, 0.3), 0px 1px 3px 1px rgba(60, 64, 67, 0.15);\n",
              "      fill: #174EA6;\n",
              "    }\n",
              "\n",
              "    [theme=dark] .colab-df-convert {\n",
              "      background-color: #3B4455;\n",
              "      fill: #D2E3FC;\n",
              "    }\n",
              "\n",
              "    [theme=dark] .colab-df-convert:hover {\n",
              "      background-color: #434B5C;\n",
              "      box-shadow: 0px 1px 3px 1px rgba(0, 0, 0, 0.15);\n",
              "      filter: drop-shadow(0px 1px 2px rgba(0, 0, 0, 0.3));\n",
              "      fill: #FFFFFF;\n",
              "    }\n",
              "  </style>\n",
              "\n",
              "      <script>\n",
              "        const buttonEl =\n",
              "          document.querySelector('#df-7cf03057-7569-40a2-aab8-e1ae78684918 button.colab-df-convert');\n",
              "        buttonEl.style.display =\n",
              "          google.colab.kernel.accessAllowed ? 'block' : 'none';\n",
              "\n",
              "        async function convertToInteractive(key) {\n",
              "          const element = document.querySelector('#df-7cf03057-7569-40a2-aab8-e1ae78684918');\n",
              "          const dataTable =\n",
              "            await google.colab.kernel.invokeFunction('convertToInteractive',\n",
              "                                                     [key], {});\n",
              "          if (!dataTable) return;\n",
              "\n",
              "          const docLinkHtml = 'Like what you see? Visit the ' +\n",
              "            '<a target=\"_blank\" href=https://colab.research.google.com/notebooks/data_table.ipynb>data table notebook</a>'\n",
              "            + ' to learn more about interactive tables.';\n",
              "          element.innerHTML = '';\n",
              "          dataTable['output_type'] = 'display_data';\n",
              "          await google.colab.output.renderOutput(dataTable, element);\n",
              "          const docLink = document.createElement('div');\n",
              "          docLink.innerHTML = docLinkHtml;\n",
              "          element.appendChild(docLink);\n",
              "        }\n",
              "      </script>\n",
              "    </div>\n",
              "  </div>\n",
              "  "
            ]
          },
          "metadata": {},
          "execution_count": 146
        }
      ]
    },
    {
      "cell_type": "code",
      "source": [
        "sms['text'].str.len()"
      ],
      "metadata": {
        "colab": {
          "base_uri": "https://localhost:8080/"
        },
        "id": "3CwSg6RxbeRg",
        "outputId": "164afcfb-dc2f-45b4-a1f5-2b807cc4f925"
      },
      "execution_count": 147,
      "outputs": [
        {
          "output_type": "execute_result",
          "data": {
            "text/plain": [
              "0        327\n",
              "1         97\n",
              "2       2524\n",
              "3        414\n",
              "4        336\n",
              "        ... \n",
              "5166     534\n",
              "5167    1114\n",
              "5168     402\n",
              "5169     573\n",
              "5170    1114\n",
              "Name: text, Length: 5171, dtype: int64"
            ]
          },
          "metadata": {},
          "execution_count": 147
        }
      ]
    },
    {
      "cell_type": "markdown",
      "source": [
        "Then it's necessary to look for null values on the dataset."
      ],
      "metadata": {
        "id": "eIwjlMxWjQUE"
      }
    },
    {
      "cell_type": "code",
      "source": [
        "sms.isnull().sum()"
      ],
      "metadata": {
        "colab": {
          "base_uri": "https://localhost:8080/"
        },
        "id": "8RMpAeoHaqvk",
        "outputId": "d34de3e9-6ede-441d-ca31-5597826cc2d4"
      },
      "execution_count": 148,
      "outputs": [
        {
          "output_type": "execute_result",
          "data": {
            "text/plain": [
              "Unnamed: 0    0\n",
              "label         0\n",
              "text          0\n",
              "label_num     0\n",
              "dtype: int64"
            ]
          },
          "metadata": {},
          "execution_count": 148
        }
      ]
    },
    {
      "cell_type": "code",
      "source": [
        "len(sms)"
      ],
      "metadata": {
        "colab": {
          "base_uri": "https://localhost:8080/"
        },
        "id": "3AvZYyTfaxXw",
        "outputId": "c17227e8-97d2-4b40-b815-ea7d716d114c"
      },
      "execution_count": 149,
      "outputs": [
        {
          "output_type": "execute_result",
          "data": {
            "text/plain": [
              "5171"
            ]
          },
          "metadata": {},
          "execution_count": 149
        }
      ]
    },
    {
      "cell_type": "markdown",
      "source": [
        "### Balancing the data\n",
        "In order to analize this methods it is necessary to balance the data."
      ],
      "metadata": {
        "id": "4FxKfDnmbT3c"
      }
    },
    {
      "cell_type": "code",
      "source": [
        "sms['label'].value_counts()"
      ],
      "metadata": {
        "colab": {
          "base_uri": "https://localhost:8080/"
        },
        "id": "3X-Dom8Fa7T9",
        "outputId": "990f62b4-0130-410c-8982-768a78a0f9cc"
      },
      "execution_count": 150,
      "outputs": [
        {
          "output_type": "execute_result",
          "data": {
            "text/plain": [
              "ham     3672\n",
              "spam    1499\n",
              "Name: label, dtype: int64"
            ]
          },
          "metadata": {},
          "execution_count": 150
        }
      ]
    },
    {
      "cell_type": "code",
      "source": [
        "spam = sms[sms['label']=='spam']\n",
        "spam.head()"
      ],
      "metadata": {
        "colab": {
          "base_uri": "https://localhost:8080/",
          "height": 206
        },
        "id": "QTBu8nABbEMV",
        "outputId": "9e7ebb1f-299a-41b3-a030-1923d3329d09"
      },
      "execution_count": 151,
      "outputs": [
        {
          "output_type": "execute_result",
          "data": {
            "text/plain": [
              "    Unnamed: 0 label                                               text  \\\n",
              "3         4685  spam  Subject: photoshop , windows , office . cheap ...   \n",
              "7         4185  spam  Subject: looking for medication ? we ` re the ...   \n",
              "10        4922  spam  Subject: vocable % rnd - word asceticism\\r\\nvc...   \n",
              "11        3799  spam  Subject: report 01405 !\\r\\nwffur attion brom e...   \n",
              "13        3948  spam  Subject: vic . odin n ^ ow\\r\\nberne hotbox car...   \n",
              "\n",
              "    label_num  \n",
              "3           1  \n",
              "7           1  \n",
              "10          1  \n",
              "11          1  \n",
              "13          1  "
            ],
            "text/html": [
              "\n",
              "  <div id=\"df-1e0a9c0e-4e1e-4393-8805-7df1c9cb1549\">\n",
              "    <div class=\"colab-df-container\">\n",
              "      <div>\n",
              "<style scoped>\n",
              "    .dataframe tbody tr th:only-of-type {\n",
              "        vertical-align: middle;\n",
              "    }\n",
              "\n",
              "    .dataframe tbody tr th {\n",
              "        vertical-align: top;\n",
              "    }\n",
              "\n",
              "    .dataframe thead th {\n",
              "        text-align: right;\n",
              "    }\n",
              "</style>\n",
              "<table border=\"1\" class=\"dataframe\">\n",
              "  <thead>\n",
              "    <tr style=\"text-align: right;\">\n",
              "      <th></th>\n",
              "      <th>Unnamed: 0</th>\n",
              "      <th>label</th>\n",
              "      <th>text</th>\n",
              "      <th>label_num</th>\n",
              "    </tr>\n",
              "  </thead>\n",
              "  <tbody>\n",
              "    <tr>\n",
              "      <th>3</th>\n",
              "      <td>4685</td>\n",
              "      <td>spam</td>\n",
              "      <td>Subject: photoshop , windows , office . cheap ...</td>\n",
              "      <td>1</td>\n",
              "    </tr>\n",
              "    <tr>\n",
              "      <th>7</th>\n",
              "      <td>4185</td>\n",
              "      <td>spam</td>\n",
              "      <td>Subject: looking for medication ? we ` re the ...</td>\n",
              "      <td>1</td>\n",
              "    </tr>\n",
              "    <tr>\n",
              "      <th>10</th>\n",
              "      <td>4922</td>\n",
              "      <td>spam</td>\n",
              "      <td>Subject: vocable % rnd - word asceticism\\r\\nvc...</td>\n",
              "      <td>1</td>\n",
              "    </tr>\n",
              "    <tr>\n",
              "      <th>11</th>\n",
              "      <td>3799</td>\n",
              "      <td>spam</td>\n",
              "      <td>Subject: report 01405 !\\r\\nwffur attion brom e...</td>\n",
              "      <td>1</td>\n",
              "    </tr>\n",
              "    <tr>\n",
              "      <th>13</th>\n",
              "      <td>3948</td>\n",
              "      <td>spam</td>\n",
              "      <td>Subject: vic . odin n ^ ow\\r\\nberne hotbox car...</td>\n",
              "      <td>1</td>\n",
              "    </tr>\n",
              "  </tbody>\n",
              "</table>\n",
              "</div>\n",
              "      <button class=\"colab-df-convert\" onclick=\"convertToInteractive('df-1e0a9c0e-4e1e-4393-8805-7df1c9cb1549')\"\n",
              "              title=\"Convert this dataframe to an interactive table.\"\n",
              "              style=\"display:none;\">\n",
              "        \n",
              "  <svg xmlns=\"http://www.w3.org/2000/svg\" height=\"24px\"viewBox=\"0 0 24 24\"\n",
              "       width=\"24px\">\n",
              "    <path d=\"M0 0h24v24H0V0z\" fill=\"none\"/>\n",
              "    <path d=\"M18.56 5.44l.94 2.06.94-2.06 2.06-.94-2.06-.94-.94-2.06-.94 2.06-2.06.94zm-11 1L8.5 8.5l.94-2.06 2.06-.94-2.06-.94L8.5 2.5l-.94 2.06-2.06.94zm10 10l.94 2.06.94-2.06 2.06-.94-2.06-.94-.94-2.06-.94 2.06-2.06.94z\"/><path d=\"M17.41 7.96l-1.37-1.37c-.4-.4-.92-.59-1.43-.59-.52 0-1.04.2-1.43.59L10.3 9.45l-7.72 7.72c-.78.78-.78 2.05 0 2.83L4 21.41c.39.39.9.59 1.41.59.51 0 1.02-.2 1.41-.59l7.78-7.78 2.81-2.81c.8-.78.8-2.07 0-2.86zM5.41 20L4 18.59l7.72-7.72 1.47 1.35L5.41 20z\"/>\n",
              "  </svg>\n",
              "      </button>\n",
              "      \n",
              "  <style>\n",
              "    .colab-df-container {\n",
              "      display:flex;\n",
              "      flex-wrap:wrap;\n",
              "      gap: 12px;\n",
              "    }\n",
              "\n",
              "    .colab-df-convert {\n",
              "      background-color: #E8F0FE;\n",
              "      border: none;\n",
              "      border-radius: 50%;\n",
              "      cursor: pointer;\n",
              "      display: none;\n",
              "      fill: #1967D2;\n",
              "      height: 32px;\n",
              "      padding: 0 0 0 0;\n",
              "      width: 32px;\n",
              "    }\n",
              "\n",
              "    .colab-df-convert:hover {\n",
              "      background-color: #E2EBFA;\n",
              "      box-shadow: 0px 1px 2px rgba(60, 64, 67, 0.3), 0px 1px 3px 1px rgba(60, 64, 67, 0.15);\n",
              "      fill: #174EA6;\n",
              "    }\n",
              "\n",
              "    [theme=dark] .colab-df-convert {\n",
              "      background-color: #3B4455;\n",
              "      fill: #D2E3FC;\n",
              "    }\n",
              "\n",
              "    [theme=dark] .colab-df-convert:hover {\n",
              "      background-color: #434B5C;\n",
              "      box-shadow: 0px 1px 3px 1px rgba(0, 0, 0, 0.15);\n",
              "      filter: drop-shadow(0px 1px 2px rgba(0, 0, 0, 0.3));\n",
              "      fill: #FFFFFF;\n",
              "    }\n",
              "  </style>\n",
              "\n",
              "      <script>\n",
              "        const buttonEl =\n",
              "          document.querySelector('#df-1e0a9c0e-4e1e-4393-8805-7df1c9cb1549 button.colab-df-convert');\n",
              "        buttonEl.style.display =\n",
              "          google.colab.kernel.accessAllowed ? 'block' : 'none';\n",
              "\n",
              "        async function convertToInteractive(key) {\n",
              "          const element = document.querySelector('#df-1e0a9c0e-4e1e-4393-8805-7df1c9cb1549');\n",
              "          const dataTable =\n",
              "            await google.colab.kernel.invokeFunction('convertToInteractive',\n",
              "                                                     [key], {});\n",
              "          if (!dataTable) return;\n",
              "\n",
              "          const docLinkHtml = 'Like what you see? Visit the ' +\n",
              "            '<a target=\"_blank\" href=https://colab.research.google.com/notebooks/data_table.ipynb>data table notebook</a>'\n",
              "            + ' to learn more about interactive tables.';\n",
              "          element.innerHTML = '';\n",
              "          dataTable['output_type'] = 'display_data';\n",
              "          await google.colab.output.renderOutput(dataTable, element);\n",
              "          const docLink = document.createElement('div');\n",
              "          docLink.innerHTML = docLinkHtml;\n",
              "          element.appendChild(docLink);\n",
              "        }\n",
              "      </script>\n",
              "    </div>\n",
              "  </div>\n",
              "  "
            ]
          },
          "metadata": {},
          "execution_count": 151
        }
      ]
    },
    {
      "cell_type": "code",
      "source": [
        "non_spam = sms[sms['label']=='ham']\n",
        "non_spam.head()"
      ],
      "metadata": {
        "colab": {
          "base_uri": "https://localhost:8080/",
          "height": 206
        },
        "id": "sWvXuKvOclK0",
        "outputId": "baba2f99-ae63-4cf2-ea46-237d1410b269"
      },
      "execution_count": 154,
      "outputs": [
        {
          "output_type": "execute_result",
          "data": {
            "text/plain": [
              "   Unnamed: 0 label                                               text  \\\n",
              "0         605   ham  Subject: enron methanol ; meter # : 988291\\r\\n...   \n",
              "1        2349   ham  Subject: hpl nom for january 9 , 2001\\r\\n( see...   \n",
              "2        3624   ham  Subject: neon retreat\\r\\nho ho ho , we ' re ar...   \n",
              "4        2030   ham  Subject: re : indian springs\\r\\nthis deal is t...   \n",
              "5        2949   ham  Subject: ehronline web address change\\r\\nthis ...   \n",
              "\n",
              "   label_num  \n",
              "0          0  \n",
              "1          0  \n",
              "2          0  \n",
              "4          0  \n",
              "5          0  "
            ],
            "text/html": [
              "\n",
              "  <div id=\"df-3ff1a423-b583-44ab-ac79-6b387794da6b\">\n",
              "    <div class=\"colab-df-container\">\n",
              "      <div>\n",
              "<style scoped>\n",
              "    .dataframe tbody tr th:only-of-type {\n",
              "        vertical-align: middle;\n",
              "    }\n",
              "\n",
              "    .dataframe tbody tr th {\n",
              "        vertical-align: top;\n",
              "    }\n",
              "\n",
              "    .dataframe thead th {\n",
              "        text-align: right;\n",
              "    }\n",
              "</style>\n",
              "<table border=\"1\" class=\"dataframe\">\n",
              "  <thead>\n",
              "    <tr style=\"text-align: right;\">\n",
              "      <th></th>\n",
              "      <th>Unnamed: 0</th>\n",
              "      <th>label</th>\n",
              "      <th>text</th>\n",
              "      <th>label_num</th>\n",
              "    </tr>\n",
              "  </thead>\n",
              "  <tbody>\n",
              "    <tr>\n",
              "      <th>0</th>\n",
              "      <td>605</td>\n",
              "      <td>ham</td>\n",
              "      <td>Subject: enron methanol ; meter # : 988291\\r\\n...</td>\n",
              "      <td>0</td>\n",
              "    </tr>\n",
              "    <tr>\n",
              "      <th>1</th>\n",
              "      <td>2349</td>\n",
              "      <td>ham</td>\n",
              "      <td>Subject: hpl nom for january 9 , 2001\\r\\n( see...</td>\n",
              "      <td>0</td>\n",
              "    </tr>\n",
              "    <tr>\n",
              "      <th>2</th>\n",
              "      <td>3624</td>\n",
              "      <td>ham</td>\n",
              "      <td>Subject: neon retreat\\r\\nho ho ho , we ' re ar...</td>\n",
              "      <td>0</td>\n",
              "    </tr>\n",
              "    <tr>\n",
              "      <th>4</th>\n",
              "      <td>2030</td>\n",
              "      <td>ham</td>\n",
              "      <td>Subject: re : indian springs\\r\\nthis deal is t...</td>\n",
              "      <td>0</td>\n",
              "    </tr>\n",
              "    <tr>\n",
              "      <th>5</th>\n",
              "      <td>2949</td>\n",
              "      <td>ham</td>\n",
              "      <td>Subject: ehronline web address change\\r\\nthis ...</td>\n",
              "      <td>0</td>\n",
              "    </tr>\n",
              "  </tbody>\n",
              "</table>\n",
              "</div>\n",
              "      <button class=\"colab-df-convert\" onclick=\"convertToInteractive('df-3ff1a423-b583-44ab-ac79-6b387794da6b')\"\n",
              "              title=\"Convert this dataframe to an interactive table.\"\n",
              "              style=\"display:none;\">\n",
              "        \n",
              "  <svg xmlns=\"http://www.w3.org/2000/svg\" height=\"24px\"viewBox=\"0 0 24 24\"\n",
              "       width=\"24px\">\n",
              "    <path d=\"M0 0h24v24H0V0z\" fill=\"none\"/>\n",
              "    <path d=\"M18.56 5.44l.94 2.06.94-2.06 2.06-.94-2.06-.94-.94-2.06-.94 2.06-2.06.94zm-11 1L8.5 8.5l.94-2.06 2.06-.94-2.06-.94L8.5 2.5l-.94 2.06-2.06.94zm10 10l.94 2.06.94-2.06 2.06-.94-2.06-.94-.94-2.06-.94 2.06-2.06.94z\"/><path d=\"M17.41 7.96l-1.37-1.37c-.4-.4-.92-.59-1.43-.59-.52 0-1.04.2-1.43.59L10.3 9.45l-7.72 7.72c-.78.78-.78 2.05 0 2.83L4 21.41c.39.39.9.59 1.41.59.51 0 1.02-.2 1.41-.59l7.78-7.78 2.81-2.81c.8-.78.8-2.07 0-2.86zM5.41 20L4 18.59l7.72-7.72 1.47 1.35L5.41 20z\"/>\n",
              "  </svg>\n",
              "      </button>\n",
              "      \n",
              "  <style>\n",
              "    .colab-df-container {\n",
              "      display:flex;\n",
              "      flex-wrap:wrap;\n",
              "      gap: 12px;\n",
              "    }\n",
              "\n",
              "    .colab-df-convert {\n",
              "      background-color: #E8F0FE;\n",
              "      border: none;\n",
              "      border-radius: 50%;\n",
              "      cursor: pointer;\n",
              "      display: none;\n",
              "      fill: #1967D2;\n",
              "      height: 32px;\n",
              "      padding: 0 0 0 0;\n",
              "      width: 32px;\n",
              "    }\n",
              "\n",
              "    .colab-df-convert:hover {\n",
              "      background-color: #E2EBFA;\n",
              "      box-shadow: 0px 1px 2px rgba(60, 64, 67, 0.3), 0px 1px 3px 1px rgba(60, 64, 67, 0.15);\n",
              "      fill: #174EA6;\n",
              "    }\n",
              "\n",
              "    [theme=dark] .colab-df-convert {\n",
              "      background-color: #3B4455;\n",
              "      fill: #D2E3FC;\n",
              "    }\n",
              "\n",
              "    [theme=dark] .colab-df-convert:hover {\n",
              "      background-color: #434B5C;\n",
              "      box-shadow: 0px 1px 3px 1px rgba(0, 0, 0, 0.15);\n",
              "      filter: drop-shadow(0px 1px 2px rgba(0, 0, 0, 0.3));\n",
              "      fill: #FFFFFF;\n",
              "    }\n",
              "  </style>\n",
              "\n",
              "      <script>\n",
              "        const buttonEl =\n",
              "          document.querySelector('#df-3ff1a423-b583-44ab-ac79-6b387794da6b button.colab-df-convert');\n",
              "        buttonEl.style.display =\n",
              "          google.colab.kernel.accessAllowed ? 'block' : 'none';\n",
              "\n",
              "        async function convertToInteractive(key) {\n",
              "          const element = document.querySelector('#df-3ff1a423-b583-44ab-ac79-6b387794da6b');\n",
              "          const dataTable =\n",
              "            await google.colab.kernel.invokeFunction('convertToInteractive',\n",
              "                                                     [key], {});\n",
              "          if (!dataTable) return;\n",
              "\n",
              "          const docLinkHtml = 'Like what you see? Visit the ' +\n",
              "            '<a target=\"_blank\" href=https://colab.research.google.com/notebooks/data_table.ipynb>data table notebook</a>'\n",
              "            + ' to learn more about interactive tables.';\n",
              "          element.innerHTML = '';\n",
              "          dataTable['output_type'] = 'display_data';\n",
              "          await google.colab.output.renderOutput(dataTable, element);\n",
              "          const docLink = document.createElement('div');\n",
              "          docLink.innerHTML = docLinkHtml;\n",
              "          element.appendChild(docLink);\n",
              "        }\n",
              "      </script>\n",
              "    </div>\n",
              "  </div>\n",
              "  "
            ]
          },
          "metadata": {},
          "execution_count": 154
        }
      ]
    },
    {
      "cell_type": "code",
      "source": [
        "spam.shape, non_spam.shape"
      ],
      "metadata": {
        "colab": {
          "base_uri": "https://localhost:8080/"
        },
        "id": "SDzDq9bfPsrS",
        "outputId": "1e66a3af-593a-4ca4-a75e-c1febcadb48f"
      },
      "execution_count": 155,
      "outputs": [
        {
          "output_type": "execute_result",
          "data": {
            "text/plain": [
              "((1499, 4), (3672, 4))"
            ]
          },
          "metadata": {},
          "execution_count": 155
        }
      ]
    },
    {
      "cell_type": "code",
      "source": [
        "non_spam = non_spam.sample(spam.shape[0])"
      ],
      "metadata": {
        "id": "FdU2gbe-TAJv"
      },
      "execution_count": 156,
      "outputs": []
    },
    {
      "cell_type": "code",
      "source": [
        "spam.shape, non_spam.shape"
      ],
      "metadata": {
        "colab": {
          "base_uri": "https://localhost:8080/"
        },
        "id": "nBGlvepkjBuA",
        "outputId": "aa0348ca-022e-4d33-b9ee-116548e8e421"
      },
      "execution_count": 157,
      "outputs": [
        {
          "output_type": "execute_result",
          "data": {
            "text/plain": [
              "((1499, 4), (1499, 4))"
            ]
          },
          "metadata": {},
          "execution_count": 157
        }
      ]
    },
    {
      "cell_type": "code",
      "source": [
        "df = sms\n",
        "df.head()"
      ],
      "metadata": {
        "colab": {
          "base_uri": "https://localhost:8080/",
          "height": 206
        },
        "id": "eBQE4sXIyyj3",
        "outputId": "7f9b9cb7-4f7e-4821-cb1d-49b0754cec0c"
      },
      "execution_count": 158,
      "outputs": [
        {
          "output_type": "execute_result",
          "data": {
            "text/plain": [
              "   Unnamed: 0 label                                               text  \\\n",
              "0         605   ham  Subject: enron methanol ; meter # : 988291\\r\\n...   \n",
              "1        2349   ham  Subject: hpl nom for january 9 , 2001\\r\\n( see...   \n",
              "2        3624   ham  Subject: neon retreat\\r\\nho ho ho , we ' re ar...   \n",
              "3        4685  spam  Subject: photoshop , windows , office . cheap ...   \n",
              "4        2030   ham  Subject: re : indian springs\\r\\nthis deal is t...   \n",
              "\n",
              "   label_num  \n",
              "0          0  \n",
              "1          0  \n",
              "2          0  \n",
              "3          1  \n",
              "4          0  "
            ],
            "text/html": [
              "\n",
              "  <div id=\"df-50e80ef1-327f-4ca3-b74b-4e5a5c0151ce\">\n",
              "    <div class=\"colab-df-container\">\n",
              "      <div>\n",
              "<style scoped>\n",
              "    .dataframe tbody tr th:only-of-type {\n",
              "        vertical-align: middle;\n",
              "    }\n",
              "\n",
              "    .dataframe tbody tr th {\n",
              "        vertical-align: top;\n",
              "    }\n",
              "\n",
              "    .dataframe thead th {\n",
              "        text-align: right;\n",
              "    }\n",
              "</style>\n",
              "<table border=\"1\" class=\"dataframe\">\n",
              "  <thead>\n",
              "    <tr style=\"text-align: right;\">\n",
              "      <th></th>\n",
              "      <th>Unnamed: 0</th>\n",
              "      <th>label</th>\n",
              "      <th>text</th>\n",
              "      <th>label_num</th>\n",
              "    </tr>\n",
              "  </thead>\n",
              "  <tbody>\n",
              "    <tr>\n",
              "      <th>0</th>\n",
              "      <td>605</td>\n",
              "      <td>ham</td>\n",
              "      <td>Subject: enron methanol ; meter # : 988291\\r\\n...</td>\n",
              "      <td>0</td>\n",
              "    </tr>\n",
              "    <tr>\n",
              "      <th>1</th>\n",
              "      <td>2349</td>\n",
              "      <td>ham</td>\n",
              "      <td>Subject: hpl nom for january 9 , 2001\\r\\n( see...</td>\n",
              "      <td>0</td>\n",
              "    </tr>\n",
              "    <tr>\n",
              "      <th>2</th>\n",
              "      <td>3624</td>\n",
              "      <td>ham</td>\n",
              "      <td>Subject: neon retreat\\r\\nho ho ho , we ' re ar...</td>\n",
              "      <td>0</td>\n",
              "    </tr>\n",
              "    <tr>\n",
              "      <th>3</th>\n",
              "      <td>4685</td>\n",
              "      <td>spam</td>\n",
              "      <td>Subject: photoshop , windows , office . cheap ...</td>\n",
              "      <td>1</td>\n",
              "    </tr>\n",
              "    <tr>\n",
              "      <th>4</th>\n",
              "      <td>2030</td>\n",
              "      <td>ham</td>\n",
              "      <td>Subject: re : indian springs\\r\\nthis deal is t...</td>\n",
              "      <td>0</td>\n",
              "    </tr>\n",
              "  </tbody>\n",
              "</table>\n",
              "</div>\n",
              "      <button class=\"colab-df-convert\" onclick=\"convertToInteractive('df-50e80ef1-327f-4ca3-b74b-4e5a5c0151ce')\"\n",
              "              title=\"Convert this dataframe to an interactive table.\"\n",
              "              style=\"display:none;\">\n",
              "        \n",
              "  <svg xmlns=\"http://www.w3.org/2000/svg\" height=\"24px\"viewBox=\"0 0 24 24\"\n",
              "       width=\"24px\">\n",
              "    <path d=\"M0 0h24v24H0V0z\" fill=\"none\"/>\n",
              "    <path d=\"M18.56 5.44l.94 2.06.94-2.06 2.06-.94-2.06-.94-.94-2.06-.94 2.06-2.06.94zm-11 1L8.5 8.5l.94-2.06 2.06-.94-2.06-.94L8.5 2.5l-.94 2.06-2.06.94zm10 10l.94 2.06.94-2.06 2.06-.94-2.06-.94-.94-2.06-.94 2.06-2.06.94z\"/><path d=\"M17.41 7.96l-1.37-1.37c-.4-.4-.92-.59-1.43-.59-.52 0-1.04.2-1.43.59L10.3 9.45l-7.72 7.72c-.78.78-.78 2.05 0 2.83L4 21.41c.39.39.9.59 1.41.59.51 0 1.02-.2 1.41-.59l7.78-7.78 2.81-2.81c.8-.78.8-2.07 0-2.86zM5.41 20L4 18.59l7.72-7.72 1.47 1.35L5.41 20z\"/>\n",
              "  </svg>\n",
              "      </button>\n",
              "      \n",
              "  <style>\n",
              "    .colab-df-container {\n",
              "      display:flex;\n",
              "      flex-wrap:wrap;\n",
              "      gap: 12px;\n",
              "    }\n",
              "\n",
              "    .colab-df-convert {\n",
              "      background-color: #E8F0FE;\n",
              "      border: none;\n",
              "      border-radius: 50%;\n",
              "      cursor: pointer;\n",
              "      display: none;\n",
              "      fill: #1967D2;\n",
              "      height: 32px;\n",
              "      padding: 0 0 0 0;\n",
              "      width: 32px;\n",
              "    }\n",
              "\n",
              "    .colab-df-convert:hover {\n",
              "      background-color: #E2EBFA;\n",
              "      box-shadow: 0px 1px 2px rgba(60, 64, 67, 0.3), 0px 1px 3px 1px rgba(60, 64, 67, 0.15);\n",
              "      fill: #174EA6;\n",
              "    }\n",
              "\n",
              "    [theme=dark] .colab-df-convert {\n",
              "      background-color: #3B4455;\n",
              "      fill: #D2E3FC;\n",
              "    }\n",
              "\n",
              "    [theme=dark] .colab-df-convert:hover {\n",
              "      background-color: #434B5C;\n",
              "      box-shadow: 0px 1px 3px 1px rgba(0, 0, 0, 0.15);\n",
              "      filter: drop-shadow(0px 1px 2px rgba(0, 0, 0, 0.3));\n",
              "      fill: #FFFFFF;\n",
              "    }\n",
              "  </style>\n",
              "\n",
              "      <script>\n",
              "        const buttonEl =\n",
              "          document.querySelector('#df-50e80ef1-327f-4ca3-b74b-4e5a5c0151ce button.colab-df-convert');\n",
              "        buttonEl.style.display =\n",
              "          google.colab.kernel.accessAllowed ? 'block' : 'none';\n",
              "\n",
              "        async function convertToInteractive(key) {\n",
              "          const element = document.querySelector('#df-50e80ef1-327f-4ca3-b74b-4e5a5c0151ce');\n",
              "          const dataTable =\n",
              "            await google.colab.kernel.invokeFunction('convertToInteractive',\n",
              "                                                     [key], {});\n",
              "          if (!dataTable) return;\n",
              "\n",
              "          const docLinkHtml = 'Like what you see? Visit the ' +\n",
              "            '<a target=\"_blank\" href=https://colab.research.google.com/notebooks/data_table.ipynb>data table notebook</a>'\n",
              "            + ' to learn more about interactive tables.';\n",
              "          element.innerHTML = '';\n",
              "          dataTable['output_type'] = 'display_data';\n",
              "          await google.colab.output.renderOutput(dataTable, element);\n",
              "          const docLink = document.createElement('div');\n",
              "          docLink.innerHTML = docLinkHtml;\n",
              "          element.appendChild(docLink);\n",
              "        }\n",
              "      </script>\n",
              "    </div>\n",
              "  </div>\n",
              "  "
            ]
          },
          "metadata": {},
          "execution_count": 158
        }
      ]
    },
    {
      "cell_type": "code",
      "source": [
        "df = non_spam.append(spam, ignore_index = True)\n",
        "df.head()"
      ],
      "metadata": {
        "colab": {
          "base_uri": "https://localhost:8080/",
          "height": 206
        },
        "id": "24TJrp-UStYx",
        "outputId": "87a8c7c9-032b-422a-cc1f-6c6534bdb269"
      },
      "execution_count": 159,
      "outputs": [
        {
          "output_type": "execute_result",
          "data": {
            "text/plain": [
              "   Unnamed: 0 label                                               text  \\\n",
              "0        1654   ham  Subject: re : cornhusker\\r\\nif the plants beco...   \n",
              "1        3604   ham  Subject: re : unify gas month end close - nove...   \n",
              "2        3466   ham  Subject: tenaska iv 8 / 01\\r\\ndarren :\\r\\nplea...   \n",
              "3          34   ham  Subject: phillips petroleum\\r\\ni wanted to upd...   \n",
              "4        3344   ham  Subject: trv notification : ( waha - 06 / 21 /...   \n",
              "\n",
              "   label_num  \n",
              "0          0  \n",
              "1          0  \n",
              "2          0  \n",
              "3          0  \n",
              "4          0  "
            ],
            "text/html": [
              "\n",
              "  <div id=\"df-8ee85562-2faf-41af-a276-814e8c9bd136\">\n",
              "    <div class=\"colab-df-container\">\n",
              "      <div>\n",
              "<style scoped>\n",
              "    .dataframe tbody tr th:only-of-type {\n",
              "        vertical-align: middle;\n",
              "    }\n",
              "\n",
              "    .dataframe tbody tr th {\n",
              "        vertical-align: top;\n",
              "    }\n",
              "\n",
              "    .dataframe thead th {\n",
              "        text-align: right;\n",
              "    }\n",
              "</style>\n",
              "<table border=\"1\" class=\"dataframe\">\n",
              "  <thead>\n",
              "    <tr style=\"text-align: right;\">\n",
              "      <th></th>\n",
              "      <th>Unnamed: 0</th>\n",
              "      <th>label</th>\n",
              "      <th>text</th>\n",
              "      <th>label_num</th>\n",
              "    </tr>\n",
              "  </thead>\n",
              "  <tbody>\n",
              "    <tr>\n",
              "      <th>0</th>\n",
              "      <td>1654</td>\n",
              "      <td>ham</td>\n",
              "      <td>Subject: re : cornhusker\\r\\nif the plants beco...</td>\n",
              "      <td>0</td>\n",
              "    </tr>\n",
              "    <tr>\n",
              "      <th>1</th>\n",
              "      <td>3604</td>\n",
              "      <td>ham</td>\n",
              "      <td>Subject: re : unify gas month end close - nove...</td>\n",
              "      <td>0</td>\n",
              "    </tr>\n",
              "    <tr>\n",
              "      <th>2</th>\n",
              "      <td>3466</td>\n",
              "      <td>ham</td>\n",
              "      <td>Subject: tenaska iv 8 / 01\\r\\ndarren :\\r\\nplea...</td>\n",
              "      <td>0</td>\n",
              "    </tr>\n",
              "    <tr>\n",
              "      <th>3</th>\n",
              "      <td>34</td>\n",
              "      <td>ham</td>\n",
              "      <td>Subject: phillips petroleum\\r\\ni wanted to upd...</td>\n",
              "      <td>0</td>\n",
              "    </tr>\n",
              "    <tr>\n",
              "      <th>4</th>\n",
              "      <td>3344</td>\n",
              "      <td>ham</td>\n",
              "      <td>Subject: trv notification : ( waha - 06 / 21 /...</td>\n",
              "      <td>0</td>\n",
              "    </tr>\n",
              "  </tbody>\n",
              "</table>\n",
              "</div>\n",
              "      <button class=\"colab-df-convert\" onclick=\"convertToInteractive('df-8ee85562-2faf-41af-a276-814e8c9bd136')\"\n",
              "              title=\"Convert this dataframe to an interactive table.\"\n",
              "              style=\"display:none;\">\n",
              "        \n",
              "  <svg xmlns=\"http://www.w3.org/2000/svg\" height=\"24px\"viewBox=\"0 0 24 24\"\n",
              "       width=\"24px\">\n",
              "    <path d=\"M0 0h24v24H0V0z\" fill=\"none\"/>\n",
              "    <path d=\"M18.56 5.44l.94 2.06.94-2.06 2.06-.94-2.06-.94-.94-2.06-.94 2.06-2.06.94zm-11 1L8.5 8.5l.94-2.06 2.06-.94-2.06-.94L8.5 2.5l-.94 2.06-2.06.94zm10 10l.94 2.06.94-2.06 2.06-.94-2.06-.94-.94-2.06-.94 2.06-2.06.94z\"/><path d=\"M17.41 7.96l-1.37-1.37c-.4-.4-.92-.59-1.43-.59-.52 0-1.04.2-1.43.59L10.3 9.45l-7.72 7.72c-.78.78-.78 2.05 0 2.83L4 21.41c.39.39.9.59 1.41.59.51 0 1.02-.2 1.41-.59l7.78-7.78 2.81-2.81c.8-.78.8-2.07 0-2.86zM5.41 20L4 18.59l7.72-7.72 1.47 1.35L5.41 20z\"/>\n",
              "  </svg>\n",
              "      </button>\n",
              "      \n",
              "  <style>\n",
              "    .colab-df-container {\n",
              "      display:flex;\n",
              "      flex-wrap:wrap;\n",
              "      gap: 12px;\n",
              "    }\n",
              "\n",
              "    .colab-df-convert {\n",
              "      background-color: #E8F0FE;\n",
              "      border: none;\n",
              "      border-radius: 50%;\n",
              "      cursor: pointer;\n",
              "      display: none;\n",
              "      fill: #1967D2;\n",
              "      height: 32px;\n",
              "      padding: 0 0 0 0;\n",
              "      width: 32px;\n",
              "    }\n",
              "\n",
              "    .colab-df-convert:hover {\n",
              "      background-color: #E2EBFA;\n",
              "      box-shadow: 0px 1px 2px rgba(60, 64, 67, 0.3), 0px 1px 3px 1px rgba(60, 64, 67, 0.15);\n",
              "      fill: #174EA6;\n",
              "    }\n",
              "\n",
              "    [theme=dark] .colab-df-convert {\n",
              "      background-color: #3B4455;\n",
              "      fill: #D2E3FC;\n",
              "    }\n",
              "\n",
              "    [theme=dark] .colab-df-convert:hover {\n",
              "      background-color: #434B5C;\n",
              "      box-shadow: 0px 1px 3px 1px rgba(0, 0, 0, 0.15);\n",
              "      filter: drop-shadow(0px 1px 2px rgba(0, 0, 0, 0.3));\n",
              "      fill: #FFFFFF;\n",
              "    }\n",
              "  </style>\n",
              "\n",
              "      <script>\n",
              "        const buttonEl =\n",
              "          document.querySelector('#df-8ee85562-2faf-41af-a276-814e8c9bd136 button.colab-df-convert');\n",
              "        buttonEl.style.display =\n",
              "          google.colab.kernel.accessAllowed ? 'block' : 'none';\n",
              "\n",
              "        async function convertToInteractive(key) {\n",
              "          const element = document.querySelector('#df-8ee85562-2faf-41af-a276-814e8c9bd136');\n",
              "          const dataTable =\n",
              "            await google.colab.kernel.invokeFunction('convertToInteractive',\n",
              "                                                     [key], {});\n",
              "          if (!dataTable) return;\n",
              "\n",
              "          const docLinkHtml = 'Like what you see? Visit the ' +\n",
              "            '<a target=\"_blank\" href=https://colab.research.google.com/notebooks/data_table.ipynb>data table notebook</a>'\n",
              "            + ' to learn more about interactive tables.';\n",
              "          element.innerHTML = '';\n",
              "          dataTable['output_type'] = 'display_data';\n",
              "          await google.colab.output.renderOutput(dataTable, element);\n",
              "          const docLink = document.createElement('div');\n",
              "          docLink.innerHTML = docLinkHtml;\n",
              "          element.appendChild(docLink);\n",
              "        }\n",
              "      </script>\n",
              "    </div>\n",
              "  </div>\n",
              "  "
            ]
          },
          "metadata": {},
          "execution_count": 159
        }
      ]
    },
    {
      "cell_type": "markdown",
      "source": [
        "Data Analysis"
      ],
      "metadata": {
        "id": "G67bDYWMT5bA"
      }
    },
    {
      "cell_type": "code",
      "source": [
        "df['label_num'].value_counts()"
      ],
      "metadata": {
        "colab": {
          "base_uri": "https://localhost:8080/"
        },
        "id": "FSFmieHDfNlA",
        "outputId": "8006aa42-f869-41b3-b4ad-4c2c2b9c2486"
      },
      "execution_count": 160,
      "outputs": [
        {
          "output_type": "execute_result",
          "data": {
            "text/plain": [
              "ham     1499\n",
              "spam    1499\n",
              "Name: label, dtype: int64"
            ]
          },
          "metadata": {},
          "execution_count": 160
        }
      ]
    },
    {
      "cell_type": "code",
      "source": [
        "df.head()"
      ],
      "metadata": {
        "colab": {
          "base_uri": "https://localhost:8080/",
          "height": 206
        },
        "id": "eFopDq_EcImM",
        "outputId": "c8361b4d-01d4-4f9f-f2ab-58551f4901cc"
      },
      "execution_count": 161,
      "outputs": [
        {
          "output_type": "execute_result",
          "data": {
            "text/plain": [
              "   Unnamed: 0 label                                               text  \\\n",
              "0        1654   ham  Subject: re : cornhusker\\r\\nif the plants beco...   \n",
              "1        3604   ham  Subject: re : unify gas month end close - nove...   \n",
              "2        3466   ham  Subject: tenaska iv 8 / 01\\r\\ndarren :\\r\\nplea...   \n",
              "3          34   ham  Subject: phillips petroleum\\r\\ni wanted to upd...   \n",
              "4        3344   ham  Subject: trv notification : ( waha - 06 / 21 /...   \n",
              "\n",
              "   label_num  \n",
              "0          0  \n",
              "1          0  \n",
              "2          0  \n",
              "3          0  \n",
              "4          0  "
            ],
            "text/html": [
              "\n",
              "  <div id=\"df-df074d35-cafa-4791-80ff-7e029dedd639\">\n",
              "    <div class=\"colab-df-container\">\n",
              "      <div>\n",
              "<style scoped>\n",
              "    .dataframe tbody tr th:only-of-type {\n",
              "        vertical-align: middle;\n",
              "    }\n",
              "\n",
              "    .dataframe tbody tr th {\n",
              "        vertical-align: top;\n",
              "    }\n",
              "\n",
              "    .dataframe thead th {\n",
              "        text-align: right;\n",
              "    }\n",
              "</style>\n",
              "<table border=\"1\" class=\"dataframe\">\n",
              "  <thead>\n",
              "    <tr style=\"text-align: right;\">\n",
              "      <th></th>\n",
              "      <th>Unnamed: 0</th>\n",
              "      <th>label</th>\n",
              "      <th>text</th>\n",
              "      <th>label_num</th>\n",
              "    </tr>\n",
              "  </thead>\n",
              "  <tbody>\n",
              "    <tr>\n",
              "      <th>0</th>\n",
              "      <td>1654</td>\n",
              "      <td>ham</td>\n",
              "      <td>Subject: re : cornhusker\\r\\nif the plants beco...</td>\n",
              "      <td>0</td>\n",
              "    </tr>\n",
              "    <tr>\n",
              "      <th>1</th>\n",
              "      <td>3604</td>\n",
              "      <td>ham</td>\n",
              "      <td>Subject: re : unify gas month end close - nove...</td>\n",
              "      <td>0</td>\n",
              "    </tr>\n",
              "    <tr>\n",
              "      <th>2</th>\n",
              "      <td>3466</td>\n",
              "      <td>ham</td>\n",
              "      <td>Subject: tenaska iv 8 / 01\\r\\ndarren :\\r\\nplea...</td>\n",
              "      <td>0</td>\n",
              "    </tr>\n",
              "    <tr>\n",
              "      <th>3</th>\n",
              "      <td>34</td>\n",
              "      <td>ham</td>\n",
              "      <td>Subject: phillips petroleum\\r\\ni wanted to upd...</td>\n",
              "      <td>0</td>\n",
              "    </tr>\n",
              "    <tr>\n",
              "      <th>4</th>\n",
              "      <td>3344</td>\n",
              "      <td>ham</td>\n",
              "      <td>Subject: trv notification : ( waha - 06 / 21 /...</td>\n",
              "      <td>0</td>\n",
              "    </tr>\n",
              "  </tbody>\n",
              "</table>\n",
              "</div>\n",
              "      <button class=\"colab-df-convert\" onclick=\"convertToInteractive('df-df074d35-cafa-4791-80ff-7e029dedd639')\"\n",
              "              title=\"Convert this dataframe to an interactive table.\"\n",
              "              style=\"display:none;\">\n",
              "        \n",
              "  <svg xmlns=\"http://www.w3.org/2000/svg\" height=\"24px\"viewBox=\"0 0 24 24\"\n",
              "       width=\"24px\">\n",
              "    <path d=\"M0 0h24v24H0V0z\" fill=\"none\"/>\n",
              "    <path d=\"M18.56 5.44l.94 2.06.94-2.06 2.06-.94-2.06-.94-.94-2.06-.94 2.06-2.06.94zm-11 1L8.5 8.5l.94-2.06 2.06-.94-2.06-.94L8.5 2.5l-.94 2.06-2.06.94zm10 10l.94 2.06.94-2.06 2.06-.94-2.06-.94-.94-2.06-.94 2.06-2.06.94z\"/><path d=\"M17.41 7.96l-1.37-1.37c-.4-.4-.92-.59-1.43-.59-.52 0-1.04.2-1.43.59L10.3 9.45l-7.72 7.72c-.78.78-.78 2.05 0 2.83L4 21.41c.39.39.9.59 1.41.59.51 0 1.02-.2 1.41-.59l7.78-7.78 2.81-2.81c.8-.78.8-2.07 0-2.86zM5.41 20L4 18.59l7.72-7.72 1.47 1.35L5.41 20z\"/>\n",
              "  </svg>\n",
              "      </button>\n",
              "      \n",
              "  <style>\n",
              "    .colab-df-container {\n",
              "      display:flex;\n",
              "      flex-wrap:wrap;\n",
              "      gap: 12px;\n",
              "    }\n",
              "\n",
              "    .colab-df-convert {\n",
              "      background-color: #E8F0FE;\n",
              "      border: none;\n",
              "      border-radius: 50%;\n",
              "      cursor: pointer;\n",
              "      display: none;\n",
              "      fill: #1967D2;\n",
              "      height: 32px;\n",
              "      padding: 0 0 0 0;\n",
              "      width: 32px;\n",
              "    }\n",
              "\n",
              "    .colab-df-convert:hover {\n",
              "      background-color: #E2EBFA;\n",
              "      box-shadow: 0px 1px 2px rgba(60, 64, 67, 0.3), 0px 1px 3px 1px rgba(60, 64, 67, 0.15);\n",
              "      fill: #174EA6;\n",
              "    }\n",
              "\n",
              "    [theme=dark] .colab-df-convert {\n",
              "      background-color: #3B4455;\n",
              "      fill: #D2E3FC;\n",
              "    }\n",
              "\n",
              "    [theme=dark] .colab-df-convert:hover {\n",
              "      background-color: #434B5C;\n",
              "      box-shadow: 0px 1px 3px 1px rgba(0, 0, 0, 0.15);\n",
              "      filter: drop-shadow(0px 1px 2px rgba(0, 0, 0, 0.3));\n",
              "      fill: #FFFFFF;\n",
              "    }\n",
              "  </style>\n",
              "\n",
              "      <script>\n",
              "        const buttonEl =\n",
              "          document.querySelector('#df-df074d35-cafa-4791-80ff-7e029dedd639 button.colab-df-convert');\n",
              "        buttonEl.style.display =\n",
              "          google.colab.kernel.accessAllowed ? 'block' : 'none';\n",
              "\n",
              "        async function convertToInteractive(key) {\n",
              "          const element = document.querySelector('#df-df074d35-cafa-4791-80ff-7e029dedd639');\n",
              "          const dataTable =\n",
              "            await google.colab.kernel.invokeFunction('convertToInteractive',\n",
              "                                                     [key], {});\n",
              "          if (!dataTable) return;\n",
              "\n",
              "          const docLinkHtml = 'Like what you see? Visit the ' +\n",
              "            '<a target=\"_blank\" href=https://colab.research.google.com/notebooks/data_table.ipynb>data table notebook</a>'\n",
              "            + ' to learn more about interactive tables.';\n",
              "          element.innerHTML = '';\n",
              "          dataTable['output_type'] = 'display_data';\n",
              "          await google.colab.output.renderOutput(dataTable, element);\n",
              "          const docLink = document.createElement('div');\n",
              "          docLink.innerHTML = docLinkHtml;\n",
              "          element.appendChild(docLink);\n",
              "        }\n",
              "      </script>\n",
              "    </div>\n",
              "  </div>\n",
              "  "
            ]
          },
          "metadata": {},
          "execution_count": 161
        }
      ]
    },
    {
      "cell_type": "code",
      "source": [
        "df['label_num'].str.len()"
      ],
      "metadata": {
        "colab": {
          "base_uri": "https://localhost:8080/"
        },
        "id": "gg5uE1cxkY-1",
        "outputId": "4d0988fc-0ec3-47ed-a780-33b575bc213c"
      },
      "execution_count": 162,
      "outputs": [
        {
          "output_type": "execute_result",
          "data": {
            "text/plain": [
              "0       3\n",
              "1       3\n",
              "2       3\n",
              "3       3\n",
              "4       3\n",
              "       ..\n",
              "2993    4\n",
              "2994    4\n",
              "2995    4\n",
              "2996    4\n",
              "2997    4\n",
              "Name: label, Length: 2998, dtype: int64"
            ]
          },
          "metadata": {},
          "execution_count": 162
        }
      ]
    },
    {
      "cell_type": "markdown",
      "source": [
        "The next plot is supposed to compare the quantity of letter does the email has in contrast of the spam an the non smap ones. But as it seems, they usually have the same amount."
      ],
      "metadata": {
        "id": "kof2vdnRTA8a"
      }
    },
    {
      "cell_type": "code",
      "source": [
        "plt.hist(df[df['label']=='ham']['text'].str.len(),bins = 100, alpha = 0.7,color = 'blue')\n",
        "plt.hist(df[df['label']=='spam']['text'].str.len(),bins = 100, alpha = 0.7, color = 'orange')\n",
        "\n",
        "plt.show()"
      ],
      "metadata": {
        "colab": {
          "base_uri": "https://localhost:8080/",
          "height": 265
        },
        "id": "iPx1mDfbT76_",
        "outputId": "02e99a29-59c9-4ab1-f5f0-d259e70b555b"
      },
      "execution_count": 169,
      "outputs": [
        {
          "output_type": "display_data",
          "data": {
            "text/plain": [
              "<Figure size 432x288 with 1 Axes>"
            ],
            "image/png": "[encoded data removed]"
          },
          "metadata": {
            "needs_background": "light"
          }
        }
      ]
    },
    {
      "cell_type": "markdown",
      "source": [
        "### **Data Preparation**\n",
        "Text Analysis is a major application field for machine learning algorithms. However the raw data, a sequence of symbols cannot be fed directly to the algorithms themselves as most of them expect numerical feature vectors with a fixed size rather than the raw text documents with variable length.\n",
        "\n",
        "This algorithm tokenize strings and gives an integer id for each possible token, for instance by using white-spaces and punctuation as token separators, \n",
        "counts the occurrences of tokens in each document, and normalize and weight with diminishing importance tokens that occur in the majority of samples / documents."
      ],
      "metadata": {
        "id": "e0HxtiWsiDZN"
      }
    },
    {
      "cell_type": "code",
      "source": [
        "x = df['text']\n",
        "y = df['label_num']"
      ],
      "metadata": {
        "id": "kM6Z6JkFi3L0"
      },
      "execution_count": 177,
      "outputs": []
    },
    {
      "cell_type": "code",
      "source": [
        "vectorizer = TfidfVectorizer()"
      ],
      "metadata": {
        "id": "yfq0-jxIkT20"
      },
      "execution_count": 178,
      "outputs": []
    },
    {
      "cell_type": "code",
      "source": [
        "x = vectorizer.fit_transform(x)"
      ],
      "metadata": {
        "id": "fJ3qxHAYmKhP"
      },
      "execution_count": 179,
      "outputs": []
    },
    {
      "cell_type": "code",
      "source": [
        "x.shape"
      ],
      "metadata": {
        "colab": {
          "base_uri": "https://localhost:8080/"
        },
        "id": "4bn-zp-imSjZ",
        "outputId": "7774ef73-98da-4030-ac99-30627948f08c"
      },
      "execution_count": 180,
      "outputs": [
        {
          "output_type": "execute_result",
          "data": {
            "text/plain": [
              "(2998, 45753)"
            ]
          },
          "metadata": {},
          "execution_count": 180
        }
      ]
    },
    {
      "cell_type": "code",
      "source": [
        "vectorizer.build_tokenizer()"
      ],
      "metadata": {
        "id": "j0WJv63D8DiZ",
        "outputId": "0279576f-23f8-4149-a3d9-777860450edb",
        "colab": {
          "base_uri": "https://localhost:8080/"
        }
      },
      "execution_count": 181,
      "outputs": [
        {
          "output_type": "execute_result",
          "data": {
            "text/plain": [
              "<function Pattern.findall>"
            ]
          },
          "metadata": {},
          "execution_count": 181
        }
      ]
    },
    {
      "cell_type": "code",
      "source": [
        "vectorizer.get_feature_names_out()"
      ],
      "metadata": {
        "colab": {
          "base_uri": "https://localhost:8080/"
        },
        "id": "Xg5FabeP71YH",
        "outputId": "9237be6a-e6a0-4ba8-cd52-25e53a7e8dfc"
      },
      "execution_count": 182,
      "outputs": [
        {
          "output_type": "execute_result",
          "data": {
            "text/plain": [
              "array(['00', '000', '0000', ..., 'zzocb', 'zzso', 'zzsyt'], dtype=object)"
            ]
          },
          "metadata": {},
          "execution_count": 182
        }
      ]
    },
    {
      "cell_type": "code",
      "source": [
        "x"
      ],
      "metadata": {
        "colab": {
          "base_uri": "https://localhost:8080/"
        },
        "id": "kR-RjGStmj9P",
        "outputId": "b8dd07fc-a82b-4bc8-a4b6-ab82d00605b8"
      },
      "execution_count": 183,
      "outputs": [
        {
          "output_type": "execute_result",
          "data": {
            "text/plain": [
              "<2998x45753 sparse matrix of type '<class 'numpy.float64'>'\n",
              "\twith 284061 stored elements in Compressed Sparse Row format>"
            ]
          },
          "metadata": {},
          "execution_count": 183
        }
      ]
    },
    {
      "cell_type": "markdown",
      "source": [
        "### Data Training"
      ],
      "metadata": {
        "id": "Ryp29AMPQ5BC"
      }
    },
    {
      "cell_type": "code",
      "source": [
        "x_train,x_test,y_train,y_test=sklearn.model_selection.train_test_split(x,y)\n",
        "\n",
        "print(\"x_train: \", x_train.shape)\n",
        "print(\"x_test: \", x_test.shape)\n",
        "print(\"y_train: \", y_train.shape)\n",
        "print(\"y_test: \", y_test.shape)"
      ],
      "metadata": {
        "colab": {
          "base_uri": "https://localhost:8080/"
        },
        "id": "sNEcSg-WQ4r5",
        "outputId": "7f4cd892-4c6d-4f20-8687-ec33b632b18c"
      },
      "execution_count": 251,
      "outputs": [
        {
          "output_type": "stream",
          "name": "stdout",
          "text": [
            "x_train:  (2248, 45753)\n",
            "x_test:  (750, 45753)\n",
            "y_train:  (2248,)\n",
            "y_test:  (750,)\n"
          ]
        }
      ]
    },
    {
      "cell_type": "markdown",
      "source": [
        "### Support Vector Classification"
      ],
      "metadata": {
        "id": "J4zXAU6iTMDg"
      }
    },
    {
      "cell_type": "code",
      "source": [
        "parameters = {'kernel':('linear', 'rbf'), 'C':[1, 10]}\n",
        "svc = svm.SVC()\n",
        "clf=GridSearchCV(svc, parameters)"
      ],
      "metadata": {
        "id": "WwirNbbC79d5"
      },
      "execution_count": 252,
      "outputs": []
    },
    {
      "cell_type": "code",
      "source": [
        "clf.fit(x_train,y_train)"
      ],
      "metadata": {
        "id": "gr71OsO-ZvC-",
        "colab": {
          "base_uri": "https://localhost:8080/"
        },
        "outputId": "09067467-47f4-44fe-e76d-21e7e8b61c71"
      },
      "execution_count": 254,
      "outputs": [
        {
          "output_type": "execute_result",
          "data": {
            "text/plain": [
              "GridSearchCV(estimator=SVC(),\n",
              "             param_grid={'C': [1, 10], 'kernel': ('linear', 'rbf')})"
            ]
          },
          "metadata": {},
          "execution_count": 254
        }
      ]
    },
    {
      "cell_type": "code",
      "source": [
        "y_pred = clf.predict(x_test)"
      ],
      "metadata": {
        "id": "j_bRHmPlPOlR"
      },
      "execution_count": 255,
      "outputs": []
    },
    {
      "cell_type": "code",
      "source": [
        "clf.get_params()"
      ],
      "metadata": {
        "colab": {
          "base_uri": "https://localhost:8080/"
        },
        "id": "qDUzvz0nmFSO",
        "outputId": "02bc4dfa-10d7-4b91-ea59-92f1c0d95252"
      },
      "execution_count": 256,
      "outputs": [
        {
          "output_type": "execute_result",
          "data": {
            "text/plain": [
              "{'cv': None,\n",
              " 'error_score': nan,\n",
              " 'estimator': SVC(),\n",
              " 'estimator__C': 1.0,\n",
              " 'estimator__break_ties': False,\n",
              " 'estimator__cache_size': 200,\n",
              " 'estimator__class_weight': None,\n",
              " 'estimator__coef0': 0.0,\n",
              " 'estimator__decision_function_shape': 'ovr',\n",
              " 'estimator__degree': 3,\n",
              " 'estimator__gamma': 'scale',\n",
              " 'estimator__kernel': 'rbf',\n",
              " 'estimator__max_iter': -1,\n",
              " 'estimator__probability': False,\n",
              " 'estimator__random_state': None,\n",
              " 'estimator__shrinking': True,\n",
              " 'estimator__tol': 0.001,\n",
              " 'estimator__verbose': False,\n",
              " 'n_jobs': None,\n",
              " 'param_grid': {'C': [1, 10], 'kernel': ('linear', 'rbf')},\n",
              " 'pre_dispatch': '2*n_jobs',\n",
              " 'refit': True,\n",
              " 'return_train_score': False,\n",
              " 'scoring': None,\n",
              " 'verbose': 0}"
            ]
          },
          "metadata": {},
          "execution_count": 256
        }
      ]
    },
    {
      "cell_type": "code",
      "source": [
        "confusion_matrix(y_test, y_pred)"
      ],
      "metadata": {
        "colab": {
          "base_uri": "https://localhost:8080/"
        },
        "id": "T-RFBjRIQHkw",
        "outputId": "9afc6f50-8932-456f-b6b3-88b700be869c"
      },
      "execution_count": 257,
      "outputs": [
        {
          "output_type": "execute_result",
          "data": {
            "text/plain": [
              "array([[359,  20],\n",
              "       [  0, 371]])"
            ]
          },
          "metadata": {},
          "execution_count": 257
        }
      ]
    },
    {
      "cell_type": "code",
      "source": [
        "accuracy_score(y_test,y_pred)"
      ],
      "metadata": {
        "colab": {
          "base_uri": "https://localhost:8080/"
        },
        "id": "TUJ6vl-cRWqp",
        "outputId": "c422187e-4236-4d91-c4af-4c1128ca60c0"
      },
      "execution_count": 258,
      "outputs": [
        {
          "output_type": "execute_result",
          "data": {
            "text/plain": [
              "0.9733333333333334"
            ]
          },
          "metadata": {},
          "execution_count": 258
        }
      ]
    },
    {
      "cell_type": "code",
      "source": [
        "print(classification_report(y_test,y_pred))"
      ],
      "metadata": {
        "colab": {
          "base_uri": "https://localhost:8080/"
        },
        "id": "g7DpAEAyRj1l",
        "outputId": "0b2ef828-c380-4e6a-c151-e925929e6dba"
      },
      "execution_count": 259,
      "outputs": [
        {
          "output_type": "stream",
          "name": "stdout",
          "text": [
            "              precision    recall  f1-score   support\n",
            "\n",
            "           0       1.00      0.95      0.97       379\n",
            "           1       0.95      1.00      0.97       371\n",
            "\n",
            "    accuracy                           0.97       750\n",
            "   macro avg       0.97      0.97      0.97       750\n",
            "weighted avg       0.97      0.97      0.97       750\n",
            "\n"
          ]
        }
      ]
    },
    {
      "cell_type": "code",
      "source": [
        "plot_confusion_matrix(clf, x_test, y_test) "
      ],
      "metadata": {
        "colab": {
          "base_uri": "https://localhost:8080/",
          "height": 351
        },
        "id": "KprLuWuURw9y",
        "outputId": "e820f9af-6724-4ac3-824a-17a25b83933b"
      },
      "execution_count": 260,
      "outputs": [
        {
          "output_type": "stream",
          "name": "stderr",
          "text": [
            "/usr/local/lib/python3.7/dist-packages/sklearn/utils/deprecation.py:87: FutureWarning: Function plot_confusion_matrix is deprecated; Function `plot_confusion_matrix` is deprecated in 1.0 and will be removed in 1.2. Use one of the class methods: ConfusionMatrixDisplay.from_predictions or ConfusionMatrixDisplay.from_estimator.\n",
            "  warnings.warn(msg, category=FutureWarning)\n"
          ]
        },
        {
          "output_type": "execute_result",
          "data": {
            "text/plain": [
              "<sklearn.metrics._plot.confusion_matrix.ConfusionMatrixDisplay at 0x7fa813d7b710>"
            ]
          },
          "metadata": {},
          "execution_count": 260
        },
        {
          "output_type": "display_data",
          "data": {
            "text/plain": [
              "<Figure size 432x288 with 2 Axes>"
            ],
            "image/png": "[encoded data removed]"
          },
          "metadata": {
            "needs_background": "light"
          }
        }
      ]
    },
    {
      "cell_type": "markdown",
      "source": [
        "### Decision Tree Classifier\n"
      ],
      "metadata": {
        "id": "pb60mRgKTCth"
      }
    },
    {
      "cell_type": "code",
      "source": [
        "parameters = {'criterion': ('gini', 'entropy', 'log_loss')}\n",
        "dtc = DecisionTreeClassifier(random_state=0)\n",
        "clf2=GridSearchCV(dtc, parameters)"
      ],
      "metadata": {
        "id": "EwmChxRULL6U"
      },
      "execution_count": 261,
      "outputs": []
    },
    {
      "cell_type": "code",
      "source": [
        "clf2.get_params()"
      ],
      "metadata": {
        "colab": {
          "base_uri": "https://localhost:8080/"
        },
        "id": "vpNFHswJL6P5",
        "outputId": "8ac2f7a6-97da-4f7d-dd6e-01232ed73cd8"
      },
      "execution_count": 262,
      "outputs": [
        {
          "output_type": "execute_result",
          "data": {
            "text/plain": [
              "{'cv': None,\n",
              " 'error_score': nan,\n",
              " 'estimator': DecisionTreeClassifier(random_state=0),\n",
              " 'estimator__ccp_alpha': 0.0,\n",
              " 'estimator__class_weight': None,\n",
              " 'estimator__criterion': 'gini',\n",
              " 'estimator__max_depth': None,\n",
              " 'estimator__max_features': None,\n",
              " 'estimator__max_leaf_nodes': None,\n",
              " 'estimator__min_impurity_decrease': 0.0,\n",
              " 'estimator__min_samples_leaf': 1,\n",
              " 'estimator__min_samples_split': 2,\n",
              " 'estimator__min_weight_fraction_leaf': 0.0,\n",
              " 'estimator__random_state': 0,\n",
              " 'estimator__splitter': 'best',\n",
              " 'n_jobs': None,\n",
              " 'param_grid': {'criterion': ('gini', 'entropy', 'log_loss')},\n",
              " 'pre_dispatch': '2*n_jobs',\n",
              " 'refit': True,\n",
              " 'return_train_score': False,\n",
              " 'scoring': None,\n",
              " 'verbose': 0}"
            ]
          },
          "metadata": {},
          "execution_count": 262
        }
      ]
    },
    {
      "cell_type": "code",
      "source": [
        "clf2.fit(x_train,y_train)"
      ],
      "metadata": {
        "colab": {
          "base_uri": "https://localhost:8080/"
        },
        "id": "V60uhtUYMMok",
        "outputId": "cccbcc59-4323-4a28-e6fc-bd83dd19fa8b"
      },
      "execution_count": 263,
      "outputs": [
        {
          "output_type": "stream",
          "name": "stderr",
          "text": [
            "/usr/local/lib/python3.7/dist-packages/sklearn/model_selection/_validation.py:372: FitFailedWarning: \n",
            "5 fits failed out of a total of 15.\n",
            "The score on these train-test partitions for these parameters will be set to nan.\n",
            "If these failures are not expected, you can try to debug them by setting error_score='raise'.\n",
            "\n",
            "Below are more details about the failures:\n",
            "--------------------------------------------------------------------------------\n",
            "5 fits failed with the following error:\n",
            "Traceback (most recent call last):\n",
            "  File \"/usr/local/lib/python3.7/dist-packages/sklearn/model_selection/_validation.py\", line 680, in _fit_and_score\n",
            "    estimator.fit(X_train, y_train, **fit_params)\n",
            "  File \"/usr/local/lib/python3.7/dist-packages/sklearn/tree/_classes.py\", line 942, in fit\n",
            "    X_idx_sorted=X_idx_sorted,\n",
            "  File \"/usr/local/lib/python3.7/dist-packages/sklearn/tree/_classes.py\", line 352, in fit\n",
            "    criterion = CRITERIA_CLF[self.criterion](\n",
            "KeyError: 'log_loss'\n",
            "\n",
            "  warnings.warn(some_fits_failed_message, FitFailedWarning)\n",
            "/usr/local/lib/python3.7/dist-packages/sklearn/model_selection/_search.py:972: UserWarning: One or more of the test scores are non-finite: [0.92527295 0.90925612        nan]\n",
            "  category=UserWarning,\n"
          ]
        },
        {
          "output_type": "execute_result",
          "data": {
            "text/plain": [
              "GridSearchCV(estimator=DecisionTreeClassifier(random_state=0),\n",
              "             param_grid={'criterion': ('gini', 'entropy', 'log_loss')})"
            ]
          },
          "metadata": {},
          "execution_count": 263
        }
      ]
    },
    {
      "cell_type": "code",
      "source": [
        "y_pred2 = clf2.predict(x_test)"
      ],
      "metadata": {
        "id": "mB-B7zXxMOnC"
      },
      "execution_count": 264,
      "outputs": []
    },
    {
      "cell_type": "code",
      "source": [
        "confusion_matrix(y_test, y_pred)"
      ],
      "metadata": {
        "colab": {
          "base_uri": "https://localhost:8080/"
        },
        "id": "3xpxZz2KMRHO",
        "outputId": "4a1f0b67-62a0-4e2b-ce46-46042d044055"
      },
      "execution_count": 265,
      "outputs": [
        {
          "output_type": "execute_result",
          "data": {
            "text/plain": [
              "array([[359,  20],\n",
              "       [  0, 371]])"
            ]
          },
          "metadata": {},
          "execution_count": 265
        }
      ]
    },
    {
      "cell_type": "code",
      "source": [
        "plot_confusion_matrix(clf2, x_test, y_test) "
      ],
      "metadata": {
        "colab": {
          "base_uri": "https://localhost:8080/",
          "height": 351
        },
        "id": "-8K_FWhTN8HM",
        "outputId": "6b05ff2a-e3f6-4b0a-bc78-fb1ae9147b87"
      },
      "execution_count": 266,
      "outputs": [
        {
          "output_type": "stream",
          "name": "stderr",
          "text": [
            "/usr/local/lib/python3.7/dist-packages/sklearn/utils/deprecation.py:87: FutureWarning: Function plot_confusion_matrix is deprecated; Function `plot_confusion_matrix` is deprecated in 1.0 and will be removed in 1.2. Use one of the class methods: ConfusionMatrixDisplay.from_predictions or ConfusionMatrixDisplay.from_estimator.\n",
            "  warnings.warn(msg, category=FutureWarning)\n"
          ]
        },
        {
          "output_type": "execute_result",
          "data": {
            "text/plain": [
              "<sklearn.metrics._plot.confusion_matrix.ConfusionMatrixDisplay at 0x7fa8167b74d0>"
            ]
          },
          "metadata": {},
          "execution_count": 266
        },
        {
          "output_type": "display_data",
          "data": {
            "text/plain": [
              "<Figure size 432x288 with 2 Axes>"
            ],
            "image/png": "[encoded data removed]"
          },
          "metadata": {
            "needs_background": "light"
          }
        }
      ]
    },
    {
      "cell_type": "code",
      "source": [
        "accuracy_score(y_test,y_pred)"
      ],
      "metadata": {
        "colab": {
          "base_uri": "https://localhost:8080/"
        },
        "id": "ISKcyuOgMTlo",
        "outputId": "67d65208-3b67-416c-db05-cd3875fb3092"
      },
      "execution_count": 267,
      "outputs": [
        {
          "output_type": "execute_result",
          "data": {
            "text/plain": [
              "0.9733333333333334"
            ]
          },
          "metadata": {},
          "execution_count": 267
        }
      ]
    },
    {
      "cell_type": "code",
      "source": [
        "print(classification_report(y_test,y_pred))"
      ],
      "metadata": {
        "colab": {
          "base_uri": "https://localhost:8080/"
        },
        "id": "-41x_EqwMV0d",
        "outputId": "3aad1643-8ef4-48b8-d19f-5493af7c8206"
      },
      "execution_count": 268,
      "outputs": [
        {
          "output_type": "stream",
          "name": "stdout",
          "text": [
            "              precision    recall  f1-score   support\n",
            "\n",
            "           0       1.00      0.95      0.97       379\n",
            "           1       0.95      1.00      0.97       371\n",
            "\n",
            "    accuracy                           0.97       750\n",
            "   macro avg       0.97      0.97      0.97       750\n",
            "weighted avg       0.97      0.97      0.97       750\n",
            "\n"
          ]
        }
      ]
    },
    {
      "cell_type": "markdown",
      "source": [
        "### MLP Classifier"
      ],
      "metadata": {
        "id": "cY-G05GiUAuT"
      }
    },
    {
      "cell_type": "code",
      "source": [
        "clf3=MLPClassifier(random_state=0)"
      ],
      "metadata": {
        "id": "LYf06Ey2UC9X"
      },
      "execution_count": 269,
      "outputs": []
    },
    {
      "cell_type": "code",
      "source": [
        "clf3.get_params()"
      ],
      "metadata": {
        "colab": {
          "base_uri": "https://localhost:8080/"
        },
        "id": "al9-goUqUNod",
        "outputId": "0005c5d4-b747-4326-959b-6a2adbe07722"
      },
      "execution_count": 270,
      "outputs": [
        {
          "output_type": "execute_result",
          "data": {
            "text/plain": [
              "{'activation': 'relu',\n",
              " 'alpha': 0.0001,\n",
              " 'batch_size': 'auto',\n",
              " 'beta_1': 0.9,\n",
              " 'beta_2': 0.999,\n",
              " 'early_stopping': False,\n",
              " 'epsilon': 1e-08,\n",
              " 'hidden_layer_sizes': (100,),\n",
              " 'learning_rate': 'constant',\n",
              " 'learning_rate_init': 0.001,\n",
              " 'max_fun': 15000,\n",
              " 'max_iter': 200,\n",
              " 'momentum': 0.9,\n",
              " 'n_iter_no_change': 10,\n",
              " 'nesterovs_momentum': True,\n",
              " 'power_t': 0.5,\n",
              " 'random_state': 0,\n",
              " 'shuffle': True,\n",
              " 'solver': 'adam',\n",
              " 'tol': 0.0001,\n",
              " 'validation_fraction': 0.1,\n",
              " 'verbose': False,\n",
              " 'warm_start': False}"
            ]
          },
          "metadata": {},
          "execution_count": 270
        }
      ]
    },
    {
      "cell_type": "code",
      "source": [
        "clf3.fit(x_train,y_train)"
      ],
      "metadata": {
        "colab": {
          "base_uri": "https://localhost:8080/"
        },
        "id": "fXwpP6b1URGN",
        "outputId": "1baf7f4a-3f7e-40b5-e668-5d77bfba3cb1"
      },
      "execution_count": 271,
      "outputs": [
        {
          "output_type": "execute_result",
          "data": {
            "text/plain": [
              "MLPClassifier(random_state=0)"
            ]
          },
          "metadata": {},
          "execution_count": 271
        }
      ]
    },
    {
      "cell_type": "code",
      "source": [
        "y_pred3 = clf3.predict(x_test)"
      ],
      "metadata": {
        "id": "yRnDTIw2UUNM"
      },
      "execution_count": 272,
      "outputs": []
    },
    {
      "cell_type": "code",
      "source": [
        "confusion_matrix(y_test, y_pred3)"
      ],
      "metadata": {
        "colab": {
          "base_uri": "https://localhost:8080/"
        },
        "id": "vU6g1pCQUV_N",
        "outputId": "8b81d4a0-93e0-46ff-e553-1696b722e81b"
      },
      "execution_count": 273,
      "outputs": [
        {
          "output_type": "execute_result",
          "data": {
            "text/plain": [
              "array([[368,  11],\n",
              "       [  1, 370]])"
            ]
          },
          "metadata": {},
          "execution_count": 273
        }
      ]
    },
    {
      "cell_type": "code",
      "source": [
        "plot_confusion_matrix(clf3, x_test, y_test) "
      ],
      "metadata": {
        "colab": {
          "base_uri": "https://localhost:8080/",
          "height": 351
        },
        "id": "WS3tk3NhUWW0",
        "outputId": "d4f43d9c-4606-4852-b1a4-2812e048179a"
      },
      "execution_count": 274,
      "outputs": [
        {
          "output_type": "stream",
          "name": "stderr",
          "text": [
            "/usr/local/lib/python3.7/dist-packages/sklearn/utils/deprecation.py:87: FutureWarning: Function plot_confusion_matrix is deprecated; Function `plot_confusion_matrix` is deprecated in 1.0 and will be removed in 1.2. Use one of the class methods: ConfusionMatrixDisplay.from_predictions or ConfusionMatrixDisplay.from_estimator.\n",
            "  warnings.warn(msg, category=FutureWarning)\n"
          ]
        },
        {
          "output_type": "execute_result",
          "data": {
            "text/plain": [
              "<sklearn.metrics._plot.confusion_matrix.ConfusionMatrixDisplay at 0x7fa813d19950>"
            ]
          },
          "metadata": {},
          "execution_count": 274
        },
        {
          "output_type": "display_data",
          "data": {
            "text/plain": [
              "<Figure size 432x288 with 2 Axes>"
            ],
            "image/png": "[encoded data removed]"
          },
          "metadata": {
            "needs_background": "light"
          }
        }
      ]
    },
    {
      "cell_type": "code",
      "source": [
        "accuracy_score(y_test,y_pred3)"
      ],
      "metadata": {
        "colab": {
          "base_uri": "https://localhost:8080/"
        },
        "id": "JmV8xIu7UYb7",
        "outputId": "09847289-05e4-4945-cd3d-422d60194880"
      },
      "execution_count": 275,
      "outputs": [
        {
          "output_type": "execute_result",
          "data": {
            "text/plain": [
              "0.984"
            ]
          },
          "metadata": {},
          "execution_count": 275
        }
      ]
    },
    {
      "cell_type": "code",
      "source": [
        "print(classification_report(y_test,y_pred3))"
      ],
      "metadata": {
        "colab": {
          "base_uri": "https://localhost:8080/"
        },
        "id": "RBF_IN07UaUp",
        "outputId": "42cd1c3b-8deb-4bc6-ed44-105ca8ba79b6"
      },
      "execution_count": 276,
      "outputs": [
        {
          "output_type": "stream",
          "name": "stdout",
          "text": [
            "              precision    recall  f1-score   support\n",
            "\n",
            "           0       1.00      0.97      0.98       379\n",
            "           1       0.97      1.00      0.98       371\n",
            "\n",
            "    accuracy                           0.98       750\n",
            "   macro avg       0.98      0.98      0.98       750\n",
            "weighted avg       0.98      0.98      0.98       750\n",
            "\n"
          ]
        }
      ]
    },
    {
      "cell_type": "markdown",
      "source": [
        "## Conclusion"
      ],
      "metadata": {
        "id": "WJMOXCcfJjuc"
      }
    },
    {
      "cell_type": "markdown",
      "source": [
        "To conclude, the algorithms of Support Vector Classification and Decision Tree Classifier have the best accuracy; but, to my mind, the best model is the one with MLP Classifier, because it adds more analyzing to the result."
      ],
      "metadata": {
        "id": "BQ1l5_cST6ty"
      }
    }
  ]
}